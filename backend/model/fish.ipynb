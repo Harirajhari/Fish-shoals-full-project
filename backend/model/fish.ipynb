{
  "cells": [
    {
      "cell_type": "code",
      "execution_count": 11,
      "metadata": {
        "id": "g5vHdamqhNhe"
      },
      "outputs": [],
      "source": [
        "import pandas as pd"
      ]
    },
    {
      "cell_type": "code",
      "execution_count": 12,
      "metadata": {
        "id": "Fp3OhOzxsFRY"
      },
      "outputs": [],
      "source": [
        "df = pd.read_csv('.\\SI_DIDSON_fish_data_2015_2016.csv')"
      ]
    },
    {
      "cell_type": "code",
      "execution_count": 16,
      "metadata": {
        "colab": {
          "base_uri": "https://localhost:8080/",
          "height": 206
        },
        "id": "DRZIE-5qcS2p",
        "outputId": "9ab20118-8846-411c-a3d5-1cc172e982ba"
      },
      "outputs": [
        {
          "data": {
            "text/html": [
              "<div>\n",
              "<style scoped>\n",
              "    .dataframe tbody tr th:only-of-type {\n",
              "        vertical-align: middle;\n",
              "    }\n",
              "\n",
              "    .dataframe tbody tr th {\n",
              "        vertical-align: top;\n",
              "    }\n",
              "\n",
              "    .dataframe thead th {\n",
              "        text-align: right;\n",
              "    }\n",
              "</style>\n",
              "<table border=\"1\" class=\"dataframe\">\n",
              "  <thead>\n",
              "    <tr style=\"text-align: right;\">\n",
              "      <th></th>\n",
              "      <th>id</th>\n",
              "      <th>date</th>\n",
              "      <th>location</th>\n",
              "      <th>site</th>\n",
              "      <th>habitat</th>\n",
              "      <th>transect_no</th>\n",
              "      <th>size_class</th>\n",
              "      <th>area_m2</th>\n",
              "      <th>number</th>\n",
              "    </tr>\n",
              "  </thead>\n",
              "  <tbody>\n",
              "    <tr>\n",
              "      <th>0</th>\n",
              "      <td>bocas del toro_almirante_mangrove_3</td>\n",
              "      <td>2025-01-27</td>\n",
              "      <td>bocas</td>\n",
              "      <td>almirante</td>\n",
              "      <td>mangrove</td>\n",
              "      <td>6</td>\n",
              "      <td>112.5</td>\n",
              "      <td>195.45</td>\n",
              "      <td>4</td>\n",
              "    </tr>\n",
              "    <tr>\n",
              "      <th>1</th>\n",
              "      <td>bocas del toro_almirante_mangrove_3</td>\n",
              "      <td>2016-01-27</td>\n",
              "      <td>bocas</td>\n",
              "      <td>almirante</td>\n",
              "      <td>mangrove</td>\n",
              "      <td>3</td>\n",
              "      <td>112.5</td>\n",
              "      <td>195.45</td>\n",
              "      <td>4</td>\n",
              "    </tr>\n",
              "    <tr>\n",
              "      <th>2</th>\n",
              "      <td>bocas del toro_almirante_mangrove_3</td>\n",
              "      <td>2016-01-27</td>\n",
              "      <td>bocas</td>\n",
              "      <td>almirante</td>\n",
              "      <td>mangrove</td>\n",
              "      <td>3</td>\n",
              "      <td>137.5</td>\n",
              "      <td>195.45</td>\n",
              "      <td>1</td>\n",
              "    </tr>\n",
              "    <tr>\n",
              "      <th>3</th>\n",
              "      <td>bocas del toro_almirante_mangrove_3</td>\n",
              "      <td>2016-01-27</td>\n",
              "      <td>bocas</td>\n",
              "      <td>almirante</td>\n",
              "      <td>mangrove</td>\n",
              "      <td>3</td>\n",
              "      <td>162.5</td>\n",
              "      <td>195.45</td>\n",
              "      <td>1</td>\n",
              "    </tr>\n",
              "    <tr>\n",
              "      <th>4</th>\n",
              "      <td>bocas del toro_almirante_mangrove_3</td>\n",
              "      <td>2016-01-27</td>\n",
              "      <td>bocas</td>\n",
              "      <td>almirante</td>\n",
              "      <td>mangrove</td>\n",
              "      <td>3</td>\n",
              "      <td>187.5</td>\n",
              "      <td>195.45</td>\n",
              "      <td>0</td>\n",
              "    </tr>\n",
              "  </tbody>\n",
              "</table>\n",
              "</div>"
            ],
            "text/plain": [
              "                                    id        date location       site  \\\n",
              "0  bocas del toro_almirante_mangrove_3  2025-01-27    bocas  almirante   \n",
              "1  bocas del toro_almirante_mangrove_3  2016-01-27    bocas  almirante   \n",
              "2  bocas del toro_almirante_mangrove_3  2016-01-27    bocas  almirante   \n",
              "3  bocas del toro_almirante_mangrove_3  2016-01-27    bocas  almirante   \n",
              "4  bocas del toro_almirante_mangrove_3  2016-01-27    bocas  almirante   \n",
              "\n",
              "    habitat  transect_no  size_class  area_m2  number  \n",
              "0  mangrove            6       112.5   195.45       4  \n",
              "1  mangrove            3       112.5   195.45       4  \n",
              "2  mangrove            3       137.5   195.45       1  \n",
              "3  mangrove            3       162.5   195.45       1  \n",
              "4  mangrove            3       187.5   195.45       0  "
            ]
          },
          "execution_count": 16,
          "metadata": {},
          "output_type": "execute_result"
        }
      ],
      "source": [
        "df.head()"
      ]
    },
    {
      "cell_type": "code",
      "execution_count": 9,
      "metadata": {
        "colab": {
          "base_uri": "https://localhost:8080/",
          "height": 206
        },
        "id": "nl3wTt5UcRmE",
        "outputId": "eb125559-018b-4d8c-d302-9e5af2a9d0a2"
      },
      "outputs": [
        {
          "data": {
            "text/html": [
              "<div>\n",
              "<style scoped>\n",
              "    .dataframe tbody tr th:only-of-type {\n",
              "        vertical-align: middle;\n",
              "    }\n",
              "\n",
              "    .dataframe tbody tr th {\n",
              "        vertical-align: top;\n",
              "    }\n",
              "\n",
              "    .dataframe thead th {\n",
              "        text-align: right;\n",
              "    }\n",
              "</style>\n",
              "<table border=\"1\" class=\"dataframe\">\n",
              "  <thead>\n",
              "    <tr style=\"text-align: right;\">\n",
              "      <th></th>\n",
              "      <th>id</th>\n",
              "      <th>date</th>\n",
              "      <th>location</th>\n",
              "      <th>site</th>\n",
              "      <th>habitat</th>\n",
              "      <th>transect_no</th>\n",
              "      <th>size_class</th>\n",
              "      <th>area_m2</th>\n",
              "      <th>number</th>\n",
              "    </tr>\n",
              "  </thead>\n",
              "  <tbody>\n",
              "    <tr>\n",
              "      <th>0</th>\n",
              "      <td>bocas del toro_almirante_mangrove_3</td>\n",
              "      <td>2016-01-27</td>\n",
              "      <td>bocas</td>\n",
              "      <td>almirante</td>\n",
              "      <td>mangrove</td>\n",
              "      <td>3</td>\n",
              "      <td>112.5</td>\n",
              "      <td>195.45</td>\n",
              "      <td>4</td>\n",
              "    </tr>\n",
              "    <tr>\n",
              "      <th>1</th>\n",
              "      <td>bocas del toro_almirante_mangrove_3</td>\n",
              "      <td>2016-01-27</td>\n",
              "      <td>bocas</td>\n",
              "      <td>almirante</td>\n",
              "      <td>mangrove</td>\n",
              "      <td>3</td>\n",
              "      <td>137.5</td>\n",
              "      <td>195.45</td>\n",
              "      <td>1</td>\n",
              "    </tr>\n",
              "    <tr>\n",
              "      <th>2</th>\n",
              "      <td>bocas del toro_almirante_mangrove_3</td>\n",
              "      <td>2016-01-27</td>\n",
              "      <td>bocas</td>\n",
              "      <td>almirante</td>\n",
              "      <td>mangrove</td>\n",
              "      <td>3</td>\n",
              "      <td>162.5</td>\n",
              "      <td>195.45</td>\n",
              "      <td>1</td>\n",
              "    </tr>\n",
              "    <tr>\n",
              "      <th>3</th>\n",
              "      <td>bocas del toro_almirante_mangrove_3</td>\n",
              "      <td>2016-01-27</td>\n",
              "      <td>bocas</td>\n",
              "      <td>almirante</td>\n",
              "      <td>mangrove</td>\n",
              "      <td>3</td>\n",
              "      <td>187.5</td>\n",
              "      <td>195.45</td>\n",
              "      <td>0</td>\n",
              "    </tr>\n",
              "    <tr>\n",
              "      <th>4</th>\n",
              "      <td>bocas del toro_almirante_mangrove_3</td>\n",
              "      <td>2016-01-27</td>\n",
              "      <td>bocas</td>\n",
              "      <td>almirante</td>\n",
              "      <td>mangrove</td>\n",
              "      <td>3</td>\n",
              "      <td>212.5</td>\n",
              "      <td>195.45</td>\n",
              "      <td>0</td>\n",
              "    </tr>\n",
              "  </tbody>\n",
              "</table>\n",
              "</div>"
            ],
            "text/plain": [
              "                                    id        date location       site  \\\n",
              "0  bocas del toro_almirante_mangrove_3  2016-01-27    bocas  almirante   \n",
              "1  bocas del toro_almirante_mangrove_3  2016-01-27    bocas  almirante   \n",
              "2  bocas del toro_almirante_mangrove_3  2016-01-27    bocas  almirante   \n",
              "3  bocas del toro_almirante_mangrove_3  2016-01-27    bocas  almirante   \n",
              "4  bocas del toro_almirante_mangrove_3  2016-01-27    bocas  almirante   \n",
              "\n",
              "    habitat  transect_no  size_class  area_m2  number  \n",
              "0  mangrove            3       112.5   195.45       4  \n",
              "1  mangrove            3       137.5   195.45       1  \n",
              "2  mangrove            3       162.5   195.45       1  \n",
              "3  mangrove            3       187.5   195.45       0  \n",
              "4  mangrove            3       212.5   195.45       0  "
            ]
          },
          "execution_count": 9,
          "metadata": {},
          "output_type": "execute_result"
        }
      ],
      "source": [
        "df.head()"
      ]
    },
    {
      "cell_type": "code",
      "execution_count": 10,
      "metadata": {
        "colab": {
          "base_uri": "https://localhost:8080/"
        },
        "id": "25Qnt7TSeAg-",
        "outputId": "73e3aa28-5ecd-4125-84d1-7f619a7e73ed"
      },
      "outputs": [
        {
          "name": "stdout",
          "output_type": "stream",
          "text": [
            "Site Prediction Accuracy: 0.48951048951048953\n",
            "Habitat Prediction Accuracy: 0.7797202797202797\n",
            "Fitting 3 folds for each of 16 candidates, totalling 48 fits\n",
            "Optimized Fish Shoal Prediction MAE: 5.429888725280762\n",
            "{'location': 'bocas', 'date': '2025-03-06', 'predicted_site': 'stri', 'predicted_habitat': 'dock', 'predicted_number_of_fish_shoals': np.float32(2.77)}\n"
          ]
        }
      ],
      "source": [
        "import pandas as pd\n",
        "import numpy as np\n",
        "from sklearn.model_selection import train_test_split\n",
        "from sklearn.preprocessing import LabelEncoder\n",
        "from sklearn.ensemble import RandomForestClassifier\n",
        "from sklearn.metrics import accuracy_score\n",
        "import xgboost as xgb\n",
        "from sklearn.model_selection import GridSearchCV\n",
        "from sklearn.metrics import mean_absolute_error\n",
        "from datetime import datetime\n",
        "\n",
        "# Load data (assuming df is already loaded)\n",
        "df['date'] = pd.to_datetime(df['date'])\n",
        "df['day_of_year'] = df['date'].dt.dayofyear\n",
        "\n",
        "# Encode categorical variables using dictionary mappings\n",
        "label_mappings = {}\n",
        "for col in ['location', 'site', 'habitat']:\n",
        "    unique_values = df[col].unique()\n",
        "    label_mappings[col] = {value: idx for idx, value in enumerate(unique_values)}\n",
        "    df[col] = df[col].map(label_mappings[col])\n",
        "\n",
        "# **Model 1: Predict \"site\"**\n",
        "X_site = df[['location', 'day_of_year']]\n",
        "y_site = df['site']\n",
        "X_train_site, X_test_site, y_train_site, y_test_site = train_test_split(X_site, y_site, test_size=0.2, random_state=42)\n",
        "\n",
        "model_site = RandomForestClassifier(n_estimators=100, random_state=42)\n",
        "model_site.fit(X_train_site, y_train_site)\n",
        "\n",
        "y_pred_site = model_site.predict(X_test_site)\n",
        "print(\"Site Prediction Accuracy:\", accuracy_score(y_test_site, y_pred_site))\n",
        "\n",
        "# **Model 2: Predict \"habitat\" using site from Model 1**\n",
        "X_habitat = df[['location', 'day_of_year', 'site']]\n",
        "y_habitat = df['habitat']\n",
        "X_train_habitat, X_test_habitat, y_train_habitat, y_test_habitat = train_test_split(X_habitat, y_habitat, test_size=0.2, random_state=42)\n",
        "\n",
        "model_habitat = RandomForestClassifier(n_estimators=100, random_state=42)\n",
        "model_habitat.fit(X_train_habitat, y_train_habitat)\n",
        "\n",
        "y_pred_habitat = model_habitat.predict(X_test_habitat)\n",
        "print(\"Habitat Prediction Accuracy:\", accuracy_score(y_test_habitat, y_pred_habitat))\n",
        "\n",
        "# **Model 3: Predict \"number\" using XGBoost**\n",
        "X_number = df[['location', 'day_of_year', 'site', 'habitat']]\n",
        "y_number = df['number']\n",
        "X_train_number, X_test_number, y_train_number, y_test_number = train_test_split(X_number, y_number, test_size=0.2, random_state=42)\n",
        "\n",
        "xgb_reg = xgb.XGBRegressor(objective=\"reg:squarederror\", random_state=42)\n",
        "\n",
        "param_grid = {\n",
        "    \"n_estimators\": [100, 200],\n",
        "    \"max_depth\": [3, 5],\n",
        "    \"learning_rate\": [0.01, 0.05],\n",
        "    \"subsample\": [0.8, 1.0]\n",
        "}\n",
        "\n",
        "grid_search = GridSearchCV(xgb_reg, param_grid, scoring=\"neg_mean_absolute_error\", cv=3, verbose=1, n_jobs=-1)\n",
        "grid_search.fit(X_train_number, y_train_number)\n",
        "\n",
        "best_xgb_reg = grid_search.best_estimator_\n",
        "y_pred_number = best_xgb_reg.predict(X_test_number)\n",
        "\n",
        "mae = mean_absolute_error(y_test_number, y_pred_number)\n",
        "print(f\"Optimized Fish Shoal Prediction MAE: {mae}\")\n",
        "\n",
        "# **Unified Prediction Function**\n",
        "def predict_fish_population(location, date):\n",
        "    \"\"\"Predicts site, habitat, and fish shoal count sequentially with mapped labels.\"\"\"\n",
        "    try:\n",
        "        day_of_year = datetime.strptime(date, \"%Y-%m-%d\").timetuple().tm_yday\n",
        "\n",
        "        # Handle unseen locations\n",
        "        if location in label_mappings['location']:\n",
        "            encoded_location = label_mappings['location'][location]\n",
        "        else:\n",
        "            print(f\"Warning: Location '{location}' not seen before. Using most common site/habitat.\")\n",
        "            encoded_location = df['location'].mode()[0]\n",
        "\n",
        "        # Predict Site\n",
        "        site_pred = model_site.predict(pd.DataFrame([[encoded_location, day_of_year]], columns=['location', 'day_of_year']))[0]\n",
        "        site_label = {v: k for k, v in label_mappings['site'].items()}.get(site_pred, \"Unknown Site\")  # Convert back to string\n",
        "\n",
        "        # Predict Habitat\n",
        "        habitat_pred = model_habitat.predict(pd.DataFrame([[encoded_location, day_of_year, site_pred]], columns=['location', 'day_of_year', 'site']))[0]\n",
        "        habitat_label = {v: k for k, v in label_mappings['habitat'].items()}.get(habitat_pred, \"Unknown Habitat\")  # Convert back to string\n",
        "\n",
        "        # Predict Number of Fish Shoals\n",
        "        fish_shoal_pred = best_xgb_reg.predict(pd.DataFrame([[encoded_location, day_of_year, site_pred, habitat_pred]],\n",
        "                                                             columns=['location', 'day_of_year', 'site', 'habitat']))[0]\n",
        "\n",
        "        return {\n",
        "            \"location\": location,\n",
        "            \"date\": date,\n",
        "            \"predicted_site\": site_label,  # Now correctly mapped to string\n",
        "            \"predicted_habitat\": habitat_label,  # Now correctly mapped to string\n",
        "            \"predicted_number_of_fish_shoals\": round(fish_shoal_pred, 2)\n",
        "        }\n",
        "    except Exception as e:\n",
        "        print(\"Error during prediction:\", e)\n",
        "        return None\n",
        "\n",
        "\n",
        "# **Example Prediction**\n",
        "example_prediction = predict_fish_population(\"bocas\", \"2025-03-06\")\n",
        "print(example_prediction)\n"
      ]
    },
    {
      "cell_type": "markdown",
      "metadata": {
        "id": "fNE-qlRYieul"
      },
      "source": []
    },
    {
      "cell_type": "markdown",
      "metadata": {
        "id": "Zw4sOBiUier_"
      },
      "source": []
    },
    {
      "cell_type": "code",
      "execution_count": 36,
      "metadata": {
        "colab": {
          "base_uri": "https://localhost:8080/"
        },
        "id": "kMOE6mNQeA15",
        "outputId": "21f89daf-c33e-413b-808d-531e94254257"
      },
      "outputs": [
        {
          "name": "stdout",
          "output_type": "stream",
          "text": [
            "{0: 0, 1: 1, 2: 2, 3: 3}\n"
          ]
        }
      ],
      "source": [
        "print(label_mappings['location'])\n"
      ]
    },
    {
      "cell_type": "code",
      "execution_count": 41,
      "metadata": {
        "colab": {
          "base_uri": "https://localhost:8080/"
        },
        "id": "OSA9R2hNg3XJ",
        "outputId": "622a7f43-4630-4b3f-d452-818c9eb4f4a8"
      },
      "outputs": [
        {
          "name": "stdout",
          "output_type": "stream",
          "text": [
            "Models and encoders saved successfully!\n"
          ]
        }
      ],
      "source": [
        "import joblib\n",
        "\n",
        "# Save models\n",
        "joblib.dump(model_site, \"random_forest_site.pkl\")\n",
        "joblib.dump(model_habitat, \"random_forest_habitat.pkl\")\n",
        "joblib.dump(best_xgb_reg, \"xgboost_fish_shoal.pkl\")\n",
        "\n",
        "# Save label mappings\n",
        "joblib.dump(label_mappings, \"label_mappings.pkl\")\n",
        "\n",
        "print(\"Models and encoders saved successfully!\")\n"
      ]
    },
    {
      "cell_type": "code",
      "execution_count": 42,
      "metadata": {
        "colab": {
          "base_uri": "https://localhost:8080/"
        },
        "id": "RViz3UzPkJ2P",
        "outputId": "9137114b-92b4-4fef-fd27-f084fb13fc95"
      },
      "outputs": [
        {
          "name": "stdout",
          "output_type": "stream",
          "text": [
            "{'location': 'bocas', 'date': '2025-03-06', 'predicted_site': 'stri', 'predicted_habitat': 'dock', 'predicted_number_of_fish_shoals': 2.77}\n"
          ]
        }
      ],
      "source": [
        "import joblib\n",
        "import pandas as pd\n",
        "from datetime import datetime\n",
        "\n",
        "# Load the trained models and encoders\n",
        "model_site = joblib.load(\"random_forest_site.pkl\")\n",
        "model_habitat = joblib.load(\"random_forest_habitat.pkl\")\n",
        "best_xgb_reg = joblib.load(\"xgboost_fish_shoal.pkl\")\n",
        "label_mappings = joblib.load(\"label_mappings.pkl\")\n",
        "\n",
        "def predict_fish_population(location, date):\n",
        "    \"\"\"Predicts site, habitat, and fish shoal count sequentially with mapped labels.\"\"\"\n",
        "    try:\n",
        "        day_of_year = datetime.strptime(date, \"%Y-%m-%d\").timetuple().tm_yday\n",
        "\n",
        "        # Handle unseen locations\n",
        "        if location in label_mappings['location']:\n",
        "            encoded_location = label_mappings['location'][location]\n",
        "        else:\n",
        "            print(f\"Warning: Location '{location}' not seen before. Using most common site/habitat.\")\n",
        "            encoded_location = df['location'].mode()[0]\n",
        "\n",
        "        # Predict Site\n",
        "        site_pred = model_site.predict(pd.DataFrame([[encoded_location, day_of_year]], columns=['location', 'day_of_year']))[0]\n",
        "        site_label = {v: k for k, v in label_mappings['site'].items()}.get(site_pred, \"Unknown Site\")\n",
        "\n",
        "        # Predict Habitat\n",
        "        habitat_pred = model_habitat.predict(pd.DataFrame([[encoded_location, day_of_year, site_pred]], columns=['location', 'day_of_year', 'site']))[0]\n",
        "        habitat_label = {v: k for k, v in label_mappings['habitat'].items()}.get(habitat_pred, \"Unknown Habitat\")\n",
        "\n",
        "        # Predict Number of Fish Shoals\n",
        "        fish_shoal_pred = best_xgb_reg.predict(pd.DataFrame([[encoded_location, day_of_year, site_pred, habitat_pred]],\n",
        "                                                             columns=['location', 'day_of_year', 'site', 'habitat']))[0]\n",
        "\n",
        "        return {\n",
        "            \"location\": location,\n",
        "            \"date\": date,\n",
        "            \"predicted_site\": site_label,\n",
        "            \"predicted_habitat\": habitat_label,\n",
        "            \"predicted_number_of_fish_shoals\": round(fish_shoal_pred, 2)\n",
        "        }\n",
        "    except Exception as e:\n",
        "        print(\"Error during prediction:\", e)\n",
        "        return None\n",
        "\n",
        "\n",
        "# **Example Prediction**\n",
        "example_prediction = predict_fish_population(\"bocas\", \"2025-03-06\")\n",
        "print(example_prediction)\n"
      ]
    },
    {
      "cell_type": "code",
      "execution_count": null,
      "metadata": {
        "id": "Tl5ihAD4oLM_"
      },
      "outputs": [],
      "source": []
    }
  ],
  "metadata": {
    "colab": {
      "provenance": []
    },
    "kernelspec": {
      "display_name": "Python 3",
      "name": "python3"
    },
    "language_info": {
      "codemirror_mode": {
        "name": "ipython",
        "version": 3
      },
      "file_extension": ".py",
      "mimetype": "text/x-python",
      "name": "python",
      "nbconvert_exporter": "python",
      "pygments_lexer": "ipython3",
      "version": "3.11.4"
    }
  },
  "nbformat": 4,
  "nbformat_minor": 0
}
